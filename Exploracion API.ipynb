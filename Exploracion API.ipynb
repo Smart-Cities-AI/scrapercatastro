{
 "cells": [
  {
   "cell_type": "code",
   "execution_count": 20,
   "id": "1024572c",
   "metadata": {},
   "outputs": [],
   "source": [
    "import pycatastro as pc"
   ]
  },
  {
   "cell_type": "code",
   "execution_count": null,
   "id": "07ddd5c1",
   "metadata": {},
   "outputs": [],
   "source": []
  },
  {
   "cell_type": "code",
   "execution_count": 1,
   "id": "87b89bcf",
   "metadata": {},
   "outputs": [
    {
     "ename": "ModuleNotFoundError",
     "evalue": "No module named 'pycatastro'",
     "output_type": "error",
     "traceback": [
      "\u001b[1;31m---------------------------------------------------------------------------\u001b[0m",
      "\u001b[1;31mModuleNotFoundError\u001b[0m                       Traceback (most recent call last)",
      "\u001b[1;32m<ipython-input-1-fa68a3f78665>\u001b[0m in \u001b[0;36m<module>\u001b[1;34m\u001b[0m\n\u001b[1;32m----> 1\u001b[1;33m \u001b[1;32mimport\u001b[0m \u001b[0mpycatastro\u001b[0m \u001b[1;32mas\u001b[0m \u001b[0mpc\u001b[0m\u001b[1;33m\u001b[0m\u001b[1;33m\u001b[0m\u001b[0m\n\u001b[0m\u001b[0;32m      2\u001b[0m \u001b[0mprint\u001b[0m\u001b[1;33m(\u001b[0m\u001b[0mpc\u001b[0m\u001b[1;33m)\u001b[0m\u001b[1;33m\u001b[0m\u001b[1;33m\u001b[0m\u001b[0m\n",
      "\u001b[1;31mModuleNotFoundError\u001b[0m: No module named 'pycatastro'"
     ]
    }
   ],
   "source": [
    "import pycatastro as pc\n",
    "print(pc)"
   ]
  },
  {
   "cell_type": "code",
   "execution_count": 6,
   "id": "1538777a",
   "metadata": {},
   "outputs": [
    {
     "ename": "NameError",
     "evalue": "name 'Consulta_RCCOOR' is not defined",
     "output_type": "error",
     "traceback": [
      "\u001b[1;31m---------------------------------------------------------------------------\u001b[0m",
      "\u001b[1;31mNameError\u001b[0m                                 Traceback (most recent call last)",
      "\u001b[1;32m<ipython-input-6-95431de6efba>\u001b[0m in \u001b[0;36m<module>\u001b[1;34m\u001b[0m\n\u001b[1;32m----> 1\u001b[1;33m \u001b[0mConsulta_RCCOOR\u001b[0m\u001b[1;33m(\u001b[0m\u001b[1;34m\"ETRS89\"\u001b[0m\u001b[1;33m,\u001b[0m \u001b[1;36m40.389375\u001b[0m\u001b[1;33m,\u001b[0m \u001b[1;33m-\u001b[0m\u001b[1;36m3.543217\u001b[0m\u001b[1;33m)\u001b[0m\u001b[1;33m\u001b[0m\u001b[1;33m\u001b[0m\u001b[0m\n\u001b[0m",
      "\u001b[1;31mNameError\u001b[0m: name 'Consulta_RCCOOR' is not defined"
     ]
    }
   ],
   "source": [
    "Consulta_RCCOOR(\"ETRS89\", 40.389375, -3.543217)"
   ]
  },
  {
   "cell_type": "code",
   "execution_count": 48,
   "id": "68d7dfca",
   "metadata": {},
   "outputs": [
    {
     "ename": "SyntaxError",
     "evalue": "invalid syntax (<ipython-input-48-3195c1cf1dcd>, line 2)",
     "output_type": "error",
     "traceback": [
      "\u001b[1;36m  File \u001b[1;32m\"<ipython-input-48-3195c1cf1dcd>\"\u001b[1;36m, line \u001b[1;32m2\u001b[0m\n\u001b[1;33m    class pycatastro.PyCatastro\u001b[0m\n\u001b[1;37m                    ^\u001b[0m\n\u001b[1;31mSyntaxError\u001b[0m\u001b[1;31m:\u001b[0m invalid syntax\n"
     ]
    }
   ],
   "source": [
    "import pycatastro as pycatastro\n",
    "class pycatastro.PyCatastro\n",
    "classmethod ConsultaMunicipio(Madrid, None)"
   ]
  },
  {
   "cell_type": "code",
   "execution_count": 8,
   "id": "164662c2",
   "metadata": {},
   "outputs": [
    {
     "ename": "IndentationError",
     "evalue": "unexpected indent (<ipython-input-8-9652d5ae91d9>, line 3)",
     "output_type": "error",
     "traceback": [
      "\u001b[1;36m  File \u001b[1;32m\"<ipython-input-8-9652d5ae91d9>\"\u001b[1;36m, line \u001b[1;32m3\u001b[0m\n\u001b[1;33m    if municipio:\u001b[0m\n\u001b[1;37m    ^\u001b[0m\n\u001b[1;31mIndentationError\u001b[0m\u001b[1;31m:\u001b[0m unexpected indent\n"
     ]
    }
   ],
   "source": [
    "def ConsultaMunicipio(cls, provincia, municipio=None):\n",
    "    params = {'Provincia': provincia}\n",
    "        if municipio:\n",
    "            params['Municipio']= municipio"
   ]
  },
  {
   "cell_type": "code",
   "execution_count": 10,
   "id": "97d8975b",
   "metadata": {},
   "outputs": [],
   "source": [
    "from pygmlparser.Parser import Parser\n",
    "from pygmlparser.Graph import Graph\n",
    "from pygmlparser.Edge import Edge\n",
    "from pygmlparser.Node import Node\n",
    "from pygmlparser.graphics.NodeGraphics import NodeGraphics\n",
    "from pygmlparser.graphics.EdgeGraphics import EdgeGraphics\n",
    "from pygmlparser.graphics.Point import Point"
   ]
  },
  {
   "cell_type": "code",
   "execution_count": 39,
   "id": "c7ac48e2",
   "metadata": {},
   "outputs": [
    {
     "data": {
      "text/plain": [
       "['418276.97',\n",
       " '4482669.14',\n",
       " '418276.77',\n",
       " '4482669.6',\n",
       " '418271.53',\n",
       " '4482681.71',\n",
       " '418280.35',\n",
       " '4482685.98',\n",
       " '418282.93',\n",
       " '4482680.01',\n",
       " '418283.21',\n",
       " '4482679.37',\n",
       " '418284.56',\n",
       " '4482676.25',\n",
       " '418285.59',\n",
       " '4482673.86',\n",
       " '418288.44',\n",
       " '4482667.25',\n",
       " '418289.83',\n",
       " '4482664.04',\n",
       " '418281.01',\n",
       " '4482659.78',\n",
       " '418263.04',\n",
       " '4482651',\n",
       " '418262.68',\n",
       " '4482651.83',\n",
       " '418261.69',\n",
       " '4482654.12',\n",
       " '418261.65',\n",
       " '4482654.22',\n",
       " '418261.29',\n",
       " '4482655.04',\n",
       " '418258.9',\n",
       " '4482660.55',\n",
       " '418258.11',\n",
       " '4482662.38',\n",
       " '418253.54',\n",
       " '4482672.94',\n",
       " '418262.34',\n",
       " '4482677.26',\n",
       " '418267.78',\n",
       " '4482664.69',\n",
       " '418270.98',\n",
       " '4482666.24',\n",
       " '418273.77',\n",
       " '4482667.59',\n",
       " '418276.97',\n",
       " '4482669.14']"
      ]
     },
     "execution_count": 39,
     "metadata": {},
     "output_type": "execute_result"
    }
   ],
   "source": [
    "def coords_from_gml(gmlfile):\n",
    "    f = open(gmlfile)\n",
    "    f_list = [i.strip() for i in f.readlines()]\n",
    "    start_index = f_list.index('<gml:LinearRing>')\n",
    "    end_index = f_list.index('</gml:LinearRing>')\n",
    "    data_index = start_index+1\n",
    "    data_values = f_list [data_index]\n",
    "    data_values_start = data_values.index('>')\n",
    "    data_values_end = data_values[data_values_start:].index(\"<\")\n",
    "    coords = data_values[data_values_start+1:+data_values_start + data_values_end].split()\n",
    "    return(coords)\n",
    "coords_from_gml('aGraph.gml')"
   ]
  },
  {
   "cell_type": "code",
   "execution_count": 7,
   "id": "d2ab9aab",
   "metadata": {},
   "outputs": [
    {
     "ename": "GMLParseException",
     "evalue": "[pos 0] expected `graph` keyword, found: <?xml",
     "output_type": "error",
     "traceback": [
      "\u001b[1;31m---------------------------------------------------------------------------\u001b[0m",
      "\u001b[1;31mGMLParseException\u001b[0m                         Traceback (most recent call last)",
      "\u001b[1;32m<ipython-input-7-5fb3b64cfc52>\u001b[0m in \u001b[0;36m<module>\u001b[1;34m\u001b[0m\n\u001b[0;32m     10\u001b[0m \u001b[0mparser\u001b[0m \u001b[1;33m=\u001b[0m \u001b[0mParser\u001b[0m\u001b[1;33m(\u001b[0m\u001b[1;33m)\u001b[0m\u001b[1;33m\u001b[0m\u001b[1;33m\u001b[0m\u001b[0m\n\u001b[0;32m     11\u001b[0m \u001b[0mparser\u001b[0m\u001b[1;33m.\u001b[0m\u001b[0mloadGML\u001b[0m\u001b[1;33m(\u001b[0m\u001b[1;34m'aGraph.gml'\u001b[0m\u001b[1;33m)\u001b[0m\u001b[1;33m\u001b[0m\u001b[1;33m\u001b[0m\u001b[0m\n\u001b[1;32m---> 12\u001b[1;33m \u001b[0mparser\u001b[0m\u001b[1;33m.\u001b[0m\u001b[0mparse\u001b[0m\u001b[1;33m(\u001b[0m\u001b[1;33m)\u001b[0m\u001b[1;33m\u001b[0m\u001b[1;33m\u001b[0m\u001b[0m\n\u001b[0m\u001b[0;32m     13\u001b[0m \u001b[1;33m\u001b[0m\u001b[0m\n\u001b[0;32m     14\u001b[0m \u001b[1;31m# Retrieve the graph nodes\u001b[0m\u001b[1;33m\u001b[0m\u001b[1;33m\u001b[0m\u001b[1;33m\u001b[0m\u001b[0m\n",
      "\u001b[1;32m~\\anaconda3\\envs\\SmartCities\\lib\\site-packages\\pygmlparser\\Parser.py\u001b[0m in \u001b[0;36mparse\u001b[1;34m(self)\u001b[0m\n\u001b[0;32m     80\u001b[0m             \u001b[1;32mraise\u001b[0m \u001b[0mGMLParseException\u001b[0m\u001b[1;33m(\u001b[0m\u001b[1;34m'Mot loaded you must call load_gml before parse'\u001b[0m\u001b[1;33m)\u001b[0m\u001b[1;33m\u001b[0m\u001b[1;33m\u001b[0m\u001b[0m\n\u001b[0;32m     81\u001b[0m \u001b[1;33m\u001b[0m\u001b[0m\n\u001b[1;32m---> 82\u001b[1;33m         \u001b[0mself\u001b[0m\u001b[1;33m.\u001b[0m\u001b[0m_parseGraph\u001b[0m\u001b[1;33m(\u001b[0m\u001b[1;33m)\u001b[0m\u001b[1;33m\u001b[0m\u001b[1;33m\u001b[0m\u001b[0m\n\u001b[0m\u001b[0;32m     83\u001b[0m \u001b[1;33m\u001b[0m\u001b[0m\n\u001b[0;32m     84\u001b[0m     \u001b[1;32mdef\u001b[0m \u001b[0m_currentToken\u001b[0m\u001b[1;33m(\u001b[0m\u001b[0mself\u001b[0m\u001b[1;33m)\u001b[0m \u001b[1;33m->\u001b[0m \u001b[0mstr\u001b[0m\u001b[1;33m:\u001b[0m\u001b[1;33m\u001b[0m\u001b[1;33m\u001b[0m\u001b[0m\n",
      "\u001b[1;32m~\\anaconda3\\envs\\SmartCities\\lib\\site-packages\\pygmlparser\\Parser.py\u001b[0m in \u001b[0;36m_parseGraph\u001b[1;34m(self)\u001b[0m\n\u001b[0;32m     92\u001b[0m \u001b[1;33m\u001b[0m\u001b[0m\n\u001b[0;32m     93\u001b[0m     \u001b[1;32mdef\u001b[0m \u001b[0m_parseGraph\u001b[0m\u001b[1;33m(\u001b[0m\u001b[0mself\u001b[0m\u001b[1;33m)\u001b[0m\u001b[1;33m:\u001b[0m\u001b[1;33m\u001b[0m\u001b[1;33m\u001b[0m\u001b[0m\n\u001b[1;32m---> 94\u001b[1;33m         \u001b[0mself\u001b[0m\u001b[1;33m.\u001b[0m\u001b[0m_parseOpenWithKeyword\u001b[0m\u001b[1;33m(\u001b[0m\u001b[0mParser\u001b[0m\u001b[1;33m.\u001b[0m\u001b[0mGRAPH_TOKEN\u001b[0m\u001b[1;33m)\u001b[0m\u001b[1;33m\u001b[0m\u001b[1;33m\u001b[0m\u001b[0m\n\u001b[0m\u001b[0;32m     95\u001b[0m \u001b[1;33m\u001b[0m\u001b[0m\n\u001b[0;32m     96\u001b[0m         \u001b[1;32mwhile\u001b[0m \u001b[0mself\u001b[0m\u001b[1;33m.\u001b[0m\u001b[0m_currentToken\u001b[0m\u001b[1;33m(\u001b[0m\u001b[1;33m)\u001b[0m \u001b[1;33m!=\u001b[0m \u001b[0mParser\u001b[0m\u001b[1;33m.\u001b[0m\u001b[0mEND_TOKEN\u001b[0m\u001b[1;33m:\u001b[0m\u001b[1;33m\u001b[0m\u001b[1;33m\u001b[0m\u001b[0m\n",
      "\u001b[1;32m~\\anaconda3\\envs\\SmartCities\\lib\\site-packages\\pygmlparser\\Parser.py\u001b[0m in \u001b[0;36m_parseOpenWithKeyword\u001b[1;34m(self, kw)\u001b[0m\n\u001b[0;32m    271\u001b[0m     \u001b[1;32mdef\u001b[0m \u001b[0m_parseOpenWithKeyword\u001b[0m\u001b[1;33m(\u001b[0m\u001b[0mself\u001b[0m\u001b[1;33m,\u001b[0m \u001b[0mkw\u001b[0m\u001b[1;33m:\u001b[0m \u001b[0mstr\u001b[0m\u001b[1;33m)\u001b[0m\u001b[1;33m:\u001b[0m\u001b[1;33m\u001b[0m\u001b[1;33m\u001b[0m\u001b[0m\n\u001b[0;32m    272\u001b[0m         \u001b[1;32mif\u001b[0m \u001b[0mself\u001b[0m\u001b[1;33m.\u001b[0m\u001b[0m_currentToken\u001b[0m\u001b[1;33m(\u001b[0m\u001b[1;33m)\u001b[0m \u001b[1;33m!=\u001b[0m \u001b[0mkw\u001b[0m\u001b[1;33m:\u001b[0m\u001b[1;33m\u001b[0m\u001b[1;33m\u001b[0m\u001b[0m\n\u001b[1;32m--> 273\u001b[1;33m             \u001b[1;32mraise\u001b[0m \u001b[0mGMLParseException\u001b[0m\u001b[1;33m(\u001b[0m\u001b[1;34mf'[pos {self._i}] expected `{kw}` keyword, found: {self._currentToken()}'\u001b[0m\u001b[1;33m)\u001b[0m\u001b[1;33m\u001b[0m\u001b[1;33m\u001b[0m\u001b[0m\n\u001b[0m\u001b[0;32m    274\u001b[0m         \u001b[0mself\u001b[0m\u001b[1;33m.\u001b[0m\u001b[0m_increment\u001b[0m\u001b[1;33m(\u001b[0m\u001b[1;33m)\u001b[0m\u001b[1;33m\u001b[0m\u001b[1;33m\u001b[0m\u001b[0m\n\u001b[0;32m    275\u001b[0m \u001b[1;33m\u001b[0m\u001b[0m\n",
      "\u001b[1;31mGMLParseException\u001b[0m: [pos 0] expected `graph` keyword, found: <?xml"
     ]
    }
   ],
   "source": [
    "# Instantiate a parser, load a file, and parse it!\n",
    "parser = Parser()\n",
    "parser.loadGML('aGraph.gml')\n",
    "parser.parse()\n",
    "\n",
    "# Retrieve the graph nodes \n",
    "Graph.Nodes = graph.graphNodes  # a map of id -> Node objects\n",
    "\n",
    "# Retrieve the graph edges\n",
    "Graph.Edges = graph.graphEdges  # list of Edge objects\n",
    "\n",
    "# Directly access the node or edge attributes\n",
    "Node = graph.graphNodes[0]\n",
    "Edge = graph.graphEdges[0]\n",
    "\n",
    "node.id      # the id of this node\n",
    "edge.source  # the source id of this edge\n",
    "\n",
    "node.is_anon  # whether or not this node actually appeared as a node block\n",
    "              # in the input GML (or if it was inferred, via edge source/targets)\n",
    "              # _True_ if inferred, False if actually appeared\n",
    "\n",
    "node.forward_edges   # List of Edge instances whose source is this node\n",
    "node.backward_edges  # List of Edge instances whose target is this node\n",
    "\n",
    "# Special attributes on Edges\n",
    "edge.source_node  # Node object corresponding to edge.source (which is an id)\n",
    "edge.target_node  # Node object corresponding to edge.target (which is an id)\n",
    "\n",
    "# Get the Tulip extensions\n",
    "EdgeGraphics = edge.graphics\n",
    "NodeGraphics = node.graphics\n",
    "\n",
    "# Get the edge line drawing description\n",
    "Tuple[Point] = edgeGraphics.line\n"
   ]
  },
  {
   "cell_type": "code",
   "execution_count": null,
   "id": "099e3270",
   "metadata": {},
   "outputs": [],
   "source": []
  }
 ],
 "metadata": {
  "kernelspec": {
   "display_name": "Python 3",
   "language": "python",
   "name": "python3"
  },
  "language_info": {
   "codemirror_mode": {
    "name": "ipython",
    "version": 3
   },
   "file_extension": ".py",
   "mimetype": "text/x-python",
   "name": "python",
   "nbconvert_exporter": "python",
   "pygments_lexer": "ipython3",
   "version": "3.8.10"
  }
 },
 "nbformat": 4,
 "nbformat_minor": 5
}
