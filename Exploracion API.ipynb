{
 "cells": [
  {
   "cell_type": "code",
   "execution_count": 3,
   "id": "1024572c",
   "metadata": {},
   "outputs": [],
   "source": [
    "import pycatastro as pc"
   ]
  },
  {
   "cell_type": "code",
   "execution_count": 6,
   "id": "1538777a",
   "metadata": {},
   "outputs": [
    {
     "ename": "NameError",
     "evalue": "name 'Consulta_RCCOOR' is not defined",
     "output_type": "error",
     "traceback": [
      "\u001b[1;31m---------------------------------------------------------------------------\u001b[0m",
      "\u001b[1;31mNameError\u001b[0m                                 Traceback (most recent call last)",
      "\u001b[1;32m<ipython-input-6-95431de6efba>\u001b[0m in \u001b[0;36m<module>\u001b[1;34m\u001b[0m\n\u001b[1;32m----> 1\u001b[1;33m \u001b[0mConsulta_RCCOOR\u001b[0m\u001b[1;33m(\u001b[0m\u001b[1;34m\"ETRS89\"\u001b[0m\u001b[1;33m,\u001b[0m \u001b[1;36m40.389375\u001b[0m\u001b[1;33m,\u001b[0m \u001b[1;33m-\u001b[0m\u001b[1;36m3.543217\u001b[0m\u001b[1;33m)\u001b[0m\u001b[1;33m\u001b[0m\u001b[1;33m\u001b[0m\u001b[0m\n\u001b[0m",
      "\u001b[1;31mNameError\u001b[0m: name 'Consulta_RCCOOR' is not defined"
     ]
    }
   ],
   "source": [
    "Consulta_RCCOOR(\"ETRS89\", 40.389375, -3.543217)"
   ]
  }
 ],
 "metadata": {
  "kernelspec": {
   "display_name": "Python 3",
   "language": "python",
   "name": "python3"
  },
  "language_info": {
   "codemirror_mode": {
    "name": "ipython",
    "version": 3
   },
   "file_extension": ".py",
   "mimetype": "text/x-python",
   "name": "python",
   "nbconvert_exporter": "python",
   "pygments_lexer": "ipython3",
   "version": "3.8.10"
  }
 },
 "nbformat": 4,
 "nbformat_minor": 5
}
