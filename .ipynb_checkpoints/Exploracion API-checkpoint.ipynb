{
 "cells": [
  {
   "cell_type": "code",
   "execution_count": null,
   "id": "164662c2",
   "metadata": {},
   "outputs": [],
   "source": []
  },
  {
   "cell_type": "code",
   "execution_count": 2,
   "id": "0d84630f",
   "metadata": {},
   "outputs": [],
   "source": [
    "from pygmlparser.Parser import Parser\n",
    "from pygmlparser.Graph import Graph\n",
    "from pygmlparser.Edge import Edge\n",
    "from pygmlparser.Node import Node\n",
    "from pygmlparser.graphics.NodeGraphics import NodeGraphics\n",
    "from pygmlparser.graphics.EdgeGraphics import EdgeGraphics\n",
    "from pygmlparser.graphics.Point import Point"
   ]
  },
  {
   "cell_type": "code",
   "execution_count": null,
   "id": "119ebe18",
   "metadata": {},
   "outputs": [],
   "source": []
  },
  {
   "cell_type": "code",
   "execution_count": 10,
   "id": "5ac89464",
   "metadata": {},
   "outputs": [],
   "source": [
    "def coords_from_gml(gmlfile):\n",
    "    f = open(gmlfile)\n",
    "    f_list = [i.strip() for i in f.readlines()]\n",
    "    start_index = f_list.index('<gml:LinearRing>')\n",
    "    end_index = f_list.index('</gml:LinearRing>')\n",
    "    data_index = start_index+1\n",
    "    data_values = f_list [data_index]\n",
    "    data_values_start = data_values.index('>')\n",
    "    data_values_end = data_values[data_values_start:].index(\"<\")\n",
    "    coords = data_values[data_values_start+1:+data_values_start + data_values_end].split()\n",
    "    return(coords)\n",
    "coords_from_gml('aGraph.gml') # obtain the coodenates UTM for the real state (to see it erase the bottom line)\n",
    "\n",
    "UTMcoord = coords_from_gml('aGraph.gml') # keep coprdenates UTM in a file"
   ]
  },
  {
   "cell_type": "code",
   "execution_count": 12,
   "id": "99056eb5",
   "metadata": {},
   "outputs": [],
   "source": [
    "listx = UTMcoord[1::2] #split one list into two lists with coordenates x and y\n",
    "listy = UTMcoord[::2]\n",
    "a = min(listx)\n",
    "b = max(listx)\n",
    "c = min(listy)\n",
    "d = max(listy)\n",
    "\n",
    "pybox = [(a,c),(a,d),(b,d),(b,c)]"
   ]
  },
  {
   "cell_type": "code",
   "execution_count": 7,
   "id": "d2ab9aab",
   "metadata": {},
   "outputs": [],
   "source": [
    "import math\n",
    "\n",
    "def utmToLatLng(zone, easting, northing, northernHemisphere=True):\n",
    "    if not northernHemisphere:\n",
    "        northing = 10000000 - northing\n",
    "\n",
    "    a = 6378137\n",
    "    e = 0.081819191\n",
    "    e1sq = 0.006739497\n",
    "    k0 = 0.9996\n",
    "\n",
    "    arc = northing / k0\n",
    "    mu = arc / (a * (1 - math.pow(e, 2) / 4.0 - 3 * math.pow(e, 4) / 64.0 - 5 * math.pow(e, 6) / 256.0))\n",
    "\n",
    "    ei = (1 - math.pow((1 - e * e), (1 / 2.0))) / (1 + math.pow((1 - e * e), (1 / 2.0)))\n",
    "\n",
    "    ca = 3 * ei / 2 - 27 * math.pow(ei, 3) / 32.0\n",
    "\n",
    "    cb = 21 * math.pow(ei, 2) / 16 - 55 * math.pow(ei, 4) / 32\n",
    "    cc = 151 * math.pow(ei, 3) / 96\n",
    "    cd = 1097 * math.pow(ei, 4) / 512\n",
    "    phi1 = mu + ca * math.sin(2 * mu) + cb * math.sin(4 * mu) + cc * math.sin(6 * mu) + cd * math.sin(8 * mu)\n",
    "\n",
    "    n0 = a / math.pow((1 - math.pow((e * math.sin(phi1)), 2)), (1 / 2.0))\n",
    "\n",
    "    r0 = a * (1 - e * e) / math.pow((1 - math.pow((e * math.sin(phi1)), 2)), (3 / 2.0))\n",
    "    fact1 = n0 * math.tan(phi1) / r0\n",
    "\n",
    "    _a1 = 500000 - easting\n",
    "    dd0 = _a1 / (n0 * k0)\n",
    "    fact2 = dd0 * dd0 / 2\n",
    "\n",
    "    t0 = math.pow(math.tan(phi1), 2)\n",
    "    Q0 = e1sq * math.pow(math.cos(phi1), 2)\n",
    "    fact3 = (5 + 3 * t0 + 10 * Q0 - 4 * Q0 * Q0 - 9 * e1sq) * math.pow(dd0, 4) / 24\n",
    "\n",
    "    fact4 = (61 + 90 * t0 + 298 * Q0 + 45 * t0 * t0 - 252 * e1sq - 3 * Q0 * Q0) * math.pow(dd0, 6) / 720\n",
    "\n",
    "    lof1 = _a1 / (n0 * k0)\n",
    "    lof2 = (1 + 2 * t0 + Q0) * math.pow(dd0, 3) / 6.0\n",
    "    lof3 = (5 - 2 * Q0 + 28 * t0 - 3 * math.pow(Q0, 2) + 8 * e1sq + 24 * math.pow(t0, 2)) * math.pow(dd0, 5) / 120\n",
    "    _a2 = (lof1 - lof2 + lof3) / math.cos(phi1)\n",
    "    _a3 = _a2 * 180 / math.pi\n",
    "\n",
    "    latitude = 180 * (phi1 - fact1 * (fact2 + fact3 + fact4)) / math.pi\n",
    "\n",
    "    if not northernHemisphere:\n",
    "        latitude = -latitude\n",
    "\n",
    "    longitude = ((zone > 0) and (6 * zone - 183.0) or 3.0) - _a3\n",
    "\n",
    "    return (latitude, longitude)"
   ]
  },
  {
   "cell_type": "code",
   "execution_count": 8,
   "id": "05b9e6f2",
   "metadata": {},
   "outputs": [
    {
     "data": {
      "text/plain": [
       "(40.49070033725037, -3.9643268800736324)"
      ]
     },
     "execution_count": 8,
     "metadata": {},
     "output_type": "execute_result"
    }
   ],
   "source": [
    "utmToLatLng(30, 418276.97, 4482669.14, northernHemisphere=True)"
   ]
  },
  {
   "cell_type": "code",
   "execution_count": null,
   "id": "d526a236",
   "metadata": {},
   "outputs": [],
   "source": []
  }
 ],
 "metadata": {
  "kernelspec": {
   "display_name": "Python 3",
   "language": "python",
   "name": "python3"
  },
  "language_info": {
   "codemirror_mode": {
    "name": "ipython",
    "version": 3
   },
   "file_extension": ".py",
   "mimetype": "text/x-python",
   "name": "python",
   "nbconvert_exporter": "python",
   "pygments_lexer": "ipython3",
   "version": "3.8.10"
  }
 },
 "nbformat": 4,
 "nbformat_minor": 5
}
