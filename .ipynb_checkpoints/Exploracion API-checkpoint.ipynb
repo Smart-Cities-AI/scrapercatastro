{
 "cells": [
  {
   "cell_type": "code",
   "execution_count": 20,
   "id": "1024572c",
   "metadata": {},
   "outputs": [],
   "source": [
    "import pycatastro as pc"
   ]
  },
  {
   "cell_type": "code",
   "execution_count": null,
   "id": "07ddd5c1",
   "metadata": {},
   "outputs": [],
   "source": []
  },
  {
   "cell_type": "code",
   "execution_count": 1,
   "id": "87b89bcf",
   "metadata": {},
   "outputs": [
    {
     "ename": "ModuleNotFoundError",
     "evalue": "No module named 'pycatastro'",
     "output_type": "error",
     "traceback": [
      "\u001b[1;31m---------------------------------------------------------------------------\u001b[0m",
      "\u001b[1;31mModuleNotFoundError\u001b[0m                       Traceback (most recent call last)",
      "\u001b[1;32m<ipython-input-1-fa68a3f78665>\u001b[0m in \u001b[0;36m<module>\u001b[1;34m\u001b[0m\n\u001b[1;32m----> 1\u001b[1;33m \u001b[1;32mimport\u001b[0m \u001b[0mpycatastro\u001b[0m \u001b[1;32mas\u001b[0m \u001b[0mpc\u001b[0m\u001b[1;33m\u001b[0m\u001b[1;33m\u001b[0m\u001b[0m\n\u001b[0m\u001b[0;32m      2\u001b[0m \u001b[0mprint\u001b[0m\u001b[1;33m(\u001b[0m\u001b[0mpc\u001b[0m\u001b[1;33m)\u001b[0m\u001b[1;33m\u001b[0m\u001b[1;33m\u001b[0m\u001b[0m\n",
      "\u001b[1;31mModuleNotFoundError\u001b[0m: No module named 'pycatastro'"
     ]
    }
   ],
   "source": [
    "import pycatastro as pc\n",
    "print(pc)"
   ]
  },
  {
   "cell_type": "code",
   "execution_count": 6,
   "id": "1538777a",
   "metadata": {},
   "outputs": [
    {
     "ename": "NameError",
     "evalue": "name 'Consulta_RCCOOR' is not defined",
     "output_type": "error",
     "traceback": [
      "\u001b[1;31m---------------------------------------------------------------------------\u001b[0m",
      "\u001b[1;31mNameError\u001b[0m                                 Traceback (most recent call last)",
      "\u001b[1;32m<ipython-input-6-95431de6efba>\u001b[0m in \u001b[0;36m<module>\u001b[1;34m\u001b[0m\n\u001b[1;32m----> 1\u001b[1;33m \u001b[0mConsulta_RCCOOR\u001b[0m\u001b[1;33m(\u001b[0m\u001b[1;34m\"ETRS89\"\u001b[0m\u001b[1;33m,\u001b[0m \u001b[1;36m40.389375\u001b[0m\u001b[1;33m,\u001b[0m \u001b[1;33m-\u001b[0m\u001b[1;36m3.543217\u001b[0m\u001b[1;33m)\u001b[0m\u001b[1;33m\u001b[0m\u001b[1;33m\u001b[0m\u001b[0m\n\u001b[0m",
      "\u001b[1;31mNameError\u001b[0m: name 'Consulta_RCCOOR' is not defined"
     ]
    }
   ],
   "source": [
    "Consulta_RCCOOR(\"ETRS89\", 40.389375, -3.543217)"
   ]
  },
  {
   "cell_type": "code",
   "execution_count": 48,
   "id": "68d7dfca",
   "metadata": {},
   "outputs": [
    {
     "ename": "SyntaxError",
     "evalue": "invalid syntax (<ipython-input-48-3195c1cf1dcd>, line 2)",
     "output_type": "error",
     "traceback": [
      "\u001b[1;36m  File \u001b[1;32m\"<ipython-input-48-3195c1cf1dcd>\"\u001b[1;36m, line \u001b[1;32m2\u001b[0m\n\u001b[1;33m    class pycatastro.PyCatastro\u001b[0m\n\u001b[1;37m                    ^\u001b[0m\n\u001b[1;31mSyntaxError\u001b[0m\u001b[1;31m:\u001b[0m invalid syntax\n"
     ]
    }
   ],
   "source": [
    "import pycatastro as pycatastro\n",
    "class pycatastro.PyCatastro\n",
    "classmethod ConsultaMunicipio(Madrid, None)"
   ]
  },
  {
   "cell_type": "code",
   "execution_count": 50,
   "id": "164662c2",
   "metadata": {},
   "outputs": [
    {
     "ename": "IndentationError",
     "evalue": "unexpected indent (<ipython-input-50-9652d5ae91d9>, line 3)",
     "output_type": "error",
     "traceback": [
      "\u001b[1;36m  File \u001b[1;32m\"<ipython-input-50-9652d5ae91d9>\"\u001b[1;36m, line \u001b[1;32m3\u001b[0m\n\u001b[1;33m    if municipio:\u001b[0m\n\u001b[1;37m    ^\u001b[0m\n\u001b[1;31mIndentationError\u001b[0m\u001b[1;31m:\u001b[0m unexpected indent\n"
     ]
    }
   ],
   "source": [
    "def ConsultaMunicipio(cls, provincia, municipio=None):\n",
    "    params = {'Provincia': provincia}\n",
    "        if municipio:\n",
    "            params['Municipio']= municipio"
   ]
  },
  {
   "cell_type": "code",
   "execution_count": 2,
   "id": "d2ab9aab",
   "metadata": {},
   "outputs": [
    {
     "ename": "ModuleNotFoundError",
     "evalue": "No module named 'pygmlparser'",
     "output_type": "error",
     "traceback": [
      "\u001b[1;31m---------------------------------------------------------------------------\u001b[0m",
      "\u001b[1;31mModuleNotFoundError\u001b[0m                       Traceback (most recent call last)",
      "\u001b[1;32m<ipython-input-2-74dc8665c279>\u001b[0m in \u001b[0;36m<module>\u001b[1;34m\u001b[0m\n\u001b[1;32m----> 1\u001b[1;33m \u001b[1;32mfrom\u001b[0m \u001b[0mpygmlparser\u001b[0m\u001b[1;33m.\u001b[0m\u001b[0mParser\u001b[0m \u001b[1;32mimport\u001b[0m \u001b[0mParser\u001b[0m\u001b[1;33m\u001b[0m\u001b[1;33m\u001b[0m\u001b[0m\n\u001b[0m\u001b[0;32m      2\u001b[0m \u001b[1;32mfrom\u001b[0m \u001b[0mpygmlparser\u001b[0m\u001b[1;33m.\u001b[0m\u001b[0mGraph\u001b[0m \u001b[1;32mimport\u001b[0m \u001b[0mGraph\u001b[0m\u001b[1;33m\u001b[0m\u001b[1;33m\u001b[0m\u001b[0m\n\u001b[0;32m      3\u001b[0m \u001b[1;32mfrom\u001b[0m \u001b[0mpygmlparser\u001b[0m\u001b[1;33m.\u001b[0m\u001b[0mEdge\u001b[0m \u001b[1;32mimport\u001b[0m \u001b[0mEdge\u001b[0m\u001b[1;33m\u001b[0m\u001b[1;33m\u001b[0m\u001b[0m\n\u001b[0;32m      4\u001b[0m \u001b[1;32mfrom\u001b[0m \u001b[0mpygmlparser\u001b[0m\u001b[1;33m.\u001b[0m\u001b[0mNode\u001b[0m \u001b[1;32mimport\u001b[0m \u001b[0mNode\u001b[0m\u001b[1;33m\u001b[0m\u001b[1;33m\u001b[0m\u001b[0m\n\u001b[0;32m      5\u001b[0m \u001b[1;32mfrom\u001b[0m \u001b[0mpygmlparser\u001b[0m\u001b[1;33m.\u001b[0m\u001b[0mgraphics\u001b[0m\u001b[1;33m.\u001b[0m\u001b[0mNodeGraphics\u001b[0m \u001b[1;32mimport\u001b[0m \u001b[0mNodeGraphics\u001b[0m\u001b[1;33m\u001b[0m\u001b[1;33m\u001b[0m\u001b[0m\n",
      "\u001b[1;31mModuleNotFoundError\u001b[0m: No module named 'pygmlparser'"
     ]
    }
   ],
   "source": [
    "from pygmlparser.Parser import Parser\n",
    "from pygmlparser.Graph import Graph\n",
    "from pygmlparser.Edge import Edge\n",
    "from pygmlparser.Node import Node\n",
    "from pygmlparser.graphics.NodeGraphics import NodeGraphics\n",
    "from pygmlparser.graphics.EdgeGraphics import EdgeGraphics\n",
    "from pygmlparser.graphics.Point import Point\n",
    "\n",
    "# Instantiate a parser, load a file, and parse it!\n",
    "Parser = Parser()\n",
    "parser.load_gml('/OneDrive - Personal/Github_SmartCitiesaGraph.gml')\n",
    "parser.parse()\n",
    "\n",
    "# Retrieve the graph nodes \n",
    "Graph.Nodes = graph.graphNodes  # a map of id -> Node objects\n",
    "\n",
    "# Retrieve the graph edges\n",
    "Graph.Edges = graph.graphEdges  # list of Edge objects\n",
    "\n",
    "# Directly access the node or edge attributes\n",
    "Node = graph.graphNodes[0]\n",
    "Edge = graph.graphEdges[0]\n",
    "\n",
    "node.id      # the id of this node\n",
    "edge.source  # the source id of this edge\n",
    "\n",
    "node.is_anon  # whether or not this node actually appeared as a node block\n",
    "              # in the input GML (or if it was inferred, via edge source/targets)\n",
    "              # _True_ if inferred, False if actually appeared\n",
    "\n",
    "node.forward_edges   # List of Edge instances whose source is this node\n",
    "node.backward_edges  # List of Edge instances whose target is this node\n",
    "\n",
    "# Special attributes on Edges\n",
    "edge.source_node  # Node object corresponding to edge.source (which is an id)\n",
    "edge.target_node  # Node object corresponding to edge.target (which is an id)\n",
    "\n",
    "# Get the Tulip extensions\n",
    "EdgeGraphics = edge.graphics\n",
    "NodeGraphics = node.graphics\n",
    "\n",
    "# Get the edge line drawing description\n",
    "Tuple[Point] = edgeGraphics.line\n"
   ]
  }
 ],
 "metadata": {
  "kernelspec": {
   "display_name": "Python 3",
   "language": "python",
   "name": "python3"
  },
  "language_info": {
   "codemirror_mode": {
    "name": "ipython",
    "version": 3
   },
   "file_extension": ".py",
   "mimetype": "text/x-python",
   "name": "python",
   "nbconvert_exporter": "python",
   "pygments_lexer": "ipython3",
   "version": "3.8.8"
  }
 },
 "nbformat": 4,
 "nbformat_minor": 5
}
